{
 "cells": [
  {
   "cell_type": "code",
   "execution_count": 4,
   "id": "nearby-indie",
   "metadata": {},
   "outputs": [
    {
     "name": "stdout",
     "output_type": "stream",
     "text": [
      "6\n",
      "5 9\n",
      "s\n",
      "20 s\n"
     ]
    },
    {
     "data": {
      "text/plain": [
       "\u001b[36ma\u001b[39m: \u001b[32mInt\u001b[39m = \u001b[32m6\u001b[39m\r\n",
       "\u001b[36mnum\u001b[39m: \u001b[32mString\u001b[39m = \u001b[32m\"5 9\"\u001b[39m\r\n",
       "\u001b[36ms\u001b[39m: \u001b[32mString\u001b[39m = \u001b[32m\"s\"\u001b[39m\r\n",
       "\u001b[36mx\u001b[39m: \u001b[32mArray\u001b[39m[\u001b[32mString\u001b[39m] = \u001b[33mArray\u001b[39m(\u001b[32m\"5\"\u001b[39m, \u001b[32m\"9\"\u001b[39m)\r\n",
       "\u001b[36msum\u001b[39m: \u001b[32mInt\u001b[39m = \u001b[32m20\u001b[39m"
      ]
     },
     "execution_count": 4,
     "metadata": {},
     "output_type": "execute_result"
    }
   ],
   "source": [
    "var a = readInt\n",
    "var num = readLine\n",
    "var s = readLine\n",
    "val x = num.split(\" \")\n",
    "var sum = a + x(0).toInt + x(1).toInt\n",
    "println(sum + \" \" + s)"
   ]
  },
  {
   "cell_type": "code",
   "execution_count": null,
   "id": "creative-anthony",
   "metadata": {},
   "outputs": [],
   "source": []
  }
 ],
 "metadata": {
  "kernelspec": {
   "display_name": "Scala",
   "language": "scala",
   "name": "scala"
  },
  "language_info": {
   "codemirror_mode": "text/x-scala",
   "file_extension": ".scala",
   "mimetype": "text/x-scala",
   "name": "scala",
   "nbconvert_exporter": "script",
   "version": "2.11.12"
  }
 },
 "nbformat": 4,
 "nbformat_minor": 5
}
